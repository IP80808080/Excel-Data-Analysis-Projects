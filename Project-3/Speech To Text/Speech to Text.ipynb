{
 "cells": [
  {
   "cell_type": "code",
   "execution_count": 2,
   "id": "b8e81a79",
   "metadata": {},
   "outputs": [
    {
     "name": "stdout",
     "output_type": "stream",
     "text": [
      "Collecting speechRecognition\n",
      "  Downloading SpeechRecognition-3.8.1-py2.py3-none-any.whl (32.8 MB)\n",
      "     -------------------------------------- 32.8/32.8 MB 997.4 kB/s eta 0:00:00\n",
      "Installing collected packages: speechRecognition\n",
      "Successfully installed speechRecognition-3.8.1\n",
      "Note: you may need to restart the kernel to use updated packages.\n"
     ]
    }
   ],
   "source": [
    "pip install speechRecognition"
   ]
  },
  {
   "cell_type": "code",
   "execution_count": 3,
   "id": "976ea83b",
   "metadata": {},
   "outputs": [
    {
     "name": "stdout",
     "output_type": "stream",
     "text": [
      "Collecting pyaudio\n",
      "  Downloading PyAudio-0.2.12-cp39-cp39-win_amd64.whl (163 kB)\n",
      "     ------------------------------------ 164.0/164.0 kB 252.0 kB/s eta 0:00:00\n",
      "Installing collected packages: pyaudio\n",
      "Successfully installed pyaudio-0.2.12\n",
      "Note: you may need to restart the kernel to use updated packages.\n"
     ]
    }
   ],
   "source": [
    "pip install pyaudio"
   ]
  },
  {
   "cell_type": "code",
   "execution_count": 4,
   "id": "15c7652f",
   "metadata": {},
   "outputs": [],
   "source": [
    "import speech_recognition as sr\n",
    "import webbrowser as wb"
   ]
  },
  {
   "cell_type": "code",
   "execution_count": 5,
   "id": "c5337b11",
   "metadata": {},
   "outputs": [],
   "source": [
    "r1 = sr.Recognizer()\n",
    "r2 = sr.Recognizer()\n",
    "r3 = sr.Recognizer()"
   ]
  },
  {
   "cell_type": "code",
   "execution_count": null,
   "id": "261399e8",
   "metadata": {},
   "outputs": [
    {
     "name": "stdout",
     "output_type": "stream",
     "text": [
      "search edureka: search youtube\n",
      "Speak now\n"
     ]
    }
   ],
   "source": [
    "with sr.Microphone() as source:\n",
    "    print(\"search edureka: search youtube\")\n",
    "    print(\"Speak now\")\n",
    "    audio = r3.listen(source)\n",
    "if \"edureka\" in r2.recognize_google(audio):\n",
    "    r2 = sr.Recognizer()\n",
    "    url = 'https://www.edureka.co/'\n",
    "    with sr.Microphone() as source:\n",
    "        print('search your query')\n",
    "        audio = r2.listen(source)\n",
    "        \n",
    "        try:\n",
    "            get = r2.recognize_google(audio)\n",
    "            print(get)\n",
    "            wb.get().open_new(url+get)\n",
    "        except sr.UnknownValueError:\n",
    "            print('ERROR')\n",
    "        except sr.RequestError as e:\n",
    "            print('failed'.format(e))\n",
    "            \n",
    "if \"Video\" in r1.recognize_google(audio):\n",
    "    r1 = sr.Recognizer()\n",
    "    url = 'https://www.youtube.com/results?search_query='\n",
    "    with sr.Microphone() as source:\n",
    "        print('search your query')\n",
    "        audio = r1.listen(source)\n",
    "        \n",
    "        try:\n",
    "            get = r1.recognize_google(audio)\n",
    "            print(get)\n",
    "            wb.get().open_new(url+get)\n",
    "        except sr.UnknownValueError:\n",
    "            print('ERROR')\n",
    "        except sr.RequestError as e:\n",
    "            print('failed'.format(e))"
   ]
  },
  {
   "cell_type": "code",
   "execution_count": null,
   "id": "633eb1d9",
   "metadata": {},
   "outputs": [],
   "source": []
  },
  {
   "cell_type": "code",
   "execution_count": null,
   "id": "e01fcd46",
   "metadata": {},
   "outputs": [],
   "source": []
  }
 ],
 "metadata": {
  "kernelspec": {
   "display_name": "Python 3 (ipykernel)",
   "language": "python",
   "name": "python3"
  },
  "language_info": {
   "codemirror_mode": {
    "name": "ipython",
    "version": 3
   },
   "file_extension": ".py",
   "mimetype": "text/x-python",
   "name": "python",
   "nbconvert_exporter": "python",
   "pygments_lexer": "ipython3",
   "version": "3.9.13"
  }
 },
 "nbformat": 4,
 "nbformat_minor": 5
}
