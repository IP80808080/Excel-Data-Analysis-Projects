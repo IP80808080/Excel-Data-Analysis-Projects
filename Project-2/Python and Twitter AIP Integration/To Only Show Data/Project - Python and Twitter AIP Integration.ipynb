{
 "cells": [
  {
   "cell_type": "markdown",
   "id": "ff0c7f0b",
   "metadata": {},
   "source": [
    "# Twitter connection with Python"
   ]
  },
  {
   "cell_type": "code",
   "execution_count": 1,
   "id": "b96d9b2d",
   "metadata": {},
   "outputs": [
    {
     "name": "stdout",
     "output_type": "stream",
     "text": [
      "Collecting twython\n",
      "  Downloading twython-3.9.1-py3-none-any.whl (33 kB)\n",
      "Requirement already satisfied: requests>=2.1.0 in k:\\games installed\\installed software\\python\\lib\\site-packages (from twython) (2.28.1)\n",
      "Collecting requests-oauthlib>=0.4.0\n",
      "  Downloading requests_oauthlib-1.3.1-py2.py3-none-any.whl (23 kB)\n",
      "Requirement already satisfied: urllib3<1.27,>=1.21.1 in k:\\games installed\\installed software\\python\\lib\\site-packages (from requests>=2.1.0->twython) (1.26.11)\n",
      "Requirement already satisfied: charset-normalizer<3,>=2 in k:\\games installed\\installed software\\python\\lib\\site-packages (from requests>=2.1.0->twython) (2.0.4)\n",
      "Requirement already satisfied: certifi>=2017.4.17 in k:\\games installed\\installed software\\python\\lib\\site-packages (from requests>=2.1.0->twython) (2022.9.24)\n",
      "Requirement already satisfied: idna<4,>=2.5 in k:\\games installed\\installed software\\python\\lib\\site-packages (from requests>=2.1.0->twython) (3.3)\n",
      "Collecting oauthlib>=3.0.0\n",
      "  Downloading oauthlib-3.2.2-py3-none-any.whl (151 kB)\n",
      "     ------------------------------------ 151.7/151.7 kB 258.6 kB/s eta 0:00:00\n",
      "Installing collected packages: oauthlib, requests-oauthlib, twython\n",
      "Successfully installed oauthlib-3.2.2 requests-oauthlib-1.3.1 twython-3.9.1\n"
     ]
    }
   ],
   "source": [
    "#!pip install twython"
   ]
  },
  {
   "cell_type": "code",
   "execution_count": 2,
   "id": "c5e73a30",
   "metadata": {},
   "outputs": [],
   "source": [
    "from twython import Twython"
   ]
  },
  {
   "cell_type": "code",
   "execution_count": 3,
   "id": "67af1bd0",
   "metadata": {},
   "outputs": [],
   "source": [
    "consumer_key = 'Qf3n48CQgjq20gwsZooCwpuWG'\n",
    "consumer_secret = 'wFwbQ0AKOAwTfWEdalQh052hheLTxD5JiMi43bFgll6IIWaVyO'\n",
    "access_token = '1595353890299461633-mNQcyCF93PxnqbcycSmu6291TtmHtr'\n",
    "access_token_secret = 'gc5VKqMrfF7xK16k2VAglrswDKvcrRk0FDkcp2dcKifub'"
   ]
  },
  {
   "cell_type": "code",
   "execution_count": 9,
   "id": "0103f075",
   "metadata": {},
   "outputs": [],
   "source": [
    "twitter = Twython(consumer_key, consumer_secret, access_token, access_token_secret)"
   ]
  },
  {
   "cell_type": "code",
   "execution_count": 10,
   "id": "45db5998",
   "metadata": {
    "scrolled": true
   },
   "outputs": [
    {
     "name": "stdout",
     "output_type": "stream",
     "text": [
      "{'statuses': [{'created_at': 'Tue Nov 15 14:02:14 +0000 2022', 'id': 1592518341691936768, 'id_str': '1592518341691936768', 'text': '‘Tom And Jerry’ got a ridiculously adorable kawaii makeover from Cartoon Network Japan.\\n\\nhttps://t.co/Nm6ykTccEz', 'truncated': False, 'entities': {'hashtags': [], 'symbols': [], 'user_mentions': [], 'urls': [{'url': 'https://t.co/Nm6ykTccEz', 'expanded_url': 'https://www.cartoonbrew.com/series/tom-and-jerry-cartoon-network-japan-223196.html', 'display_url': 'cartoonbrew.com/series/tom-and…', 'indices': [89, 112]}]}, 'metadata': {'result_type': 'popular', 'iso_language_code': 'en'}, 'source': '<a href=\"https://about.twitter.com/products/tweetdeck\" rel=\"nofollow\">TweetDeck</a>', 'in_reply_to_status_id': None, 'in_reply_to_status_id_str': None, 'in_reply_to_user_id': None, 'in_reply_to_user_id_str': None, 'in_reply_to_screen_name': None, 'user': {'id': 15936696, 'id_str': '15936696', 'name': 'cartoonbrew.com - Animation News', 'screen_name': 'cartoonbrew', 'location': '', 'description': 'Global animation art, business, and culture for industry pros and informed fans.', 'url': 'https://t.co/RmlQ9mX0my', 'entities': {'url': {'urls': [{'url': 'https://t.co/RmlQ9mX0my', 'expanded_url': 'http://www.cartoonbrew.com', 'display_url': 'cartoonbrew.com', 'indices': [0, 23]}]}, 'description': {'urls': []}}, 'protected': False, 'followers_count': 113288, 'friends_count': 3448, 'listed_count': 1775, 'created_at': 'Thu Aug 21 20:50:05 +0000 2008', 'favourites_count': 12358, 'utc_offset': None, 'time_zone': None, 'geo_enabled': False, 'verified': True, 'statuses_count': 25901, 'lang': None, 'contributors_enabled': False, 'is_translator': False, 'is_translation_enabled': False, 'profile_background_color': 'AB131A', 'profile_background_image_url': 'http://abs.twimg.com/images/themes/theme12/bg.gif', 'profile_background_image_url_https': 'https://abs.twimg.com/images/themes/theme12/bg.gif', 'profile_background_tile': True, 'profile_image_url': 'http://pbs.twimg.com/profile_images/1268269181616762881/0okOwXkV_normal.jpg', 'profile_image_url_https': 'https://pbs.twimg.com/profile_images/1268269181616762881/0okOwXkV_normal.jpg', 'profile_banner_url': 'https://pbs.twimg.com/profile_banners/15936696/1667394599', 'profile_link_color': 'DD3C3C', 'profile_sidebar_border_color': 'FFFFFF', 'profile_sidebar_fill_color': 'E3E3E3', 'profile_text_color': '000000', 'profile_use_background_image': True, 'has_extended_profile': False, 'default_profile': False, 'default_profile_image': False, 'following': False, 'follow_request_sent': False, 'notifications': False, 'translator_type': 'none', 'withheld_in_countries': []}, 'geo': None, 'coordinates': None, 'place': None, 'contributors': None, 'is_quote_status': False, 'retweet_count': 92, 'favorite_count': 323, 'favorited': False, 'retweeted': False, 'possibly_sensitive': False, 'lang': 'en'}, {'created_at': 'Sun Nov 20 01:00:01 +0000 2022', 'id': 1594133426948349953, 'id_str': '1594133426948349953', 'text': \"#OneMoment Tom and Jerry is playing to its target market and it looks like it's a hit! https://t.co/foz6SQfVpi\", 'truncated': False, 'entities': {'hashtags': [{'text': 'OneMoment', 'indices': [0, 10]}], 'symbols': [], 'user_mentions': [], 'urls': [], 'media': [{'id': 1593325611602219008, 'id_str': '1593325611602219008', 'indices': [87, 110], 'media_url': 'http://pbs.twimg.com/ext_tw_video_thumb/1593325611602219008/pu/img/cjgsxEIkdbLuB4iA.jpg', 'media_url_https': 'https://pbs.twimg.com/ext_tw_video_thumb/1593325611602219008/pu/img/cjgsxEIkdbLuB4iA.jpg', 'url': 'https://t.co/foz6SQfVpi', 'display_url': 'pic.twitter.com/foz6SQfVpi', 'expanded_url': 'https://twitter.com/ChinaDaily/status/1594133426948349953/video/1', 'type': 'photo', 'sizes': {'thumb': {'w': 150, 'h': 150, 'resize': 'crop'}, 'small': {'w': 680, 'h': 680, 'resize': 'fit'}, 'large': {'w': 1080, 'h': 1080, 'resize': 'fit'}, 'medium': {'w': 1080, 'h': 1080, 'resize': 'fit'}}}]}, 'extended_entities': {'media': [{'id': 1593325611602219008, 'id_str': '1593325611602219008', 'indices': [87, 110], 'media_url': 'http://pbs.twimg.com/ext_tw_video_thumb/1593325611602219008/pu/img/cjgsxEIkdbLuB4iA.jpg', 'media_url_https': 'https://pbs.twimg.com/ext_tw_video_thumb/1593325611602219008/pu/img/cjgsxEIkdbLuB4iA.jpg', 'url': 'https://t.co/foz6SQfVpi', 'display_url': 'pic.twitter.com/foz6SQfVpi', 'expanded_url': 'https://twitter.com/ChinaDaily/status/1594133426948349953/video/1', 'type': 'video', 'sizes': {'thumb': {'w': 150, 'h': 150, 'resize': 'crop'}, 'small': {'w': 680, 'h': 680, 'resize': 'fit'}, 'large': {'w': 1080, 'h': 1080, 'resize': 'fit'}, 'medium': {'w': 1080, 'h': 1080, 'resize': 'fit'}}, 'video_info': {'aspect_ratio': [1, 1], 'duration_millis': 11076, 'variants': [{'bitrate': 1280000, 'content_type': 'video/mp4', 'url': 'https://video.twimg.com/ext_tw_video/1593325611602219008/pu/vid/720x720/_ksa9-2Neix9ktFe.mp4?tag=12'}, {'content_type': 'application/x-mpegURL', 'url': 'https://video.twimg.com/ext_tw_video/1593325611602219008/pu/pl/8CDXIcCFUT5tvGl0.m3u8?tag=12&container=fmp4'}, {'bitrate': 432000, 'content_type': 'video/mp4', 'url': 'https://video.twimg.com/ext_tw_video/1593325611602219008/pu/vid/320x320/TR3msiPkZoNc1BVU.mp4?tag=12'}, {'bitrate': 832000, 'content_type': 'video/mp4', 'url': 'https://video.twimg.com/ext_tw_video/1593325611602219008/pu/vid/540x540/5nShMfo5EQxbkVei.mp4?tag=12'}]}, 'additional_media_info': {'title': '', 'description': '', 'embeddable': True, 'monetizable': False}}]}, 'metadata': {'result_type': 'popular', 'iso_language_code': 'en'}, 'source': '<a href=\"https://studio.twitter.com\" rel=\"nofollow\">Twitter Media Studio</a>', 'in_reply_to_status_id': None, 'in_reply_to_status_id_str': None, 'in_reply_to_user_id': None, 'in_reply_to_user_id_str': None, 'in_reply_to_screen_name': None, 'user': {'id': 87775422, 'id_str': '87775422', 'name': 'China Daily', 'screen_name': 'ChinaDaily', 'location': 'Beijing, China', 'description': 'Start a conversation as we share news and analysis from #China and beyond.', 'url': None, 'entities': {'description': {'urls': []}}, 'protected': False, 'followers_count': 4199856, 'friends_count': 576, 'listed_count': 6814, 'created_at': 'Thu Nov 05 20:30:10 +0000 2009', 'favourites_count': 1137, 'utc_offset': None, 'time_zone': None, 'geo_enabled': False, 'verified': True, 'statuses_count': 188265, 'lang': None, 'contributors_enabled': False, 'is_translator': False, 'is_translation_enabled': False, 'profile_background_color': 'EBEBEB', 'profile_background_image_url': 'http://abs.twimg.com/images/themes/theme7/bg.gif', 'profile_background_image_url_https': 'https://abs.twimg.com/images/themes/theme7/bg.gif', 'profile_background_tile': True, 'profile_image_url': 'http://pbs.twimg.com/profile_images/1338149997322280964/KMJIarfn_normal.jpg', 'profile_image_url_https': 'https://pbs.twimg.com/profile_images/1338149997322280964/KMJIarfn_normal.jpg', 'profile_banner_url': 'https://pbs.twimg.com/profile_banners/87775422/1665995025', 'profile_link_color': '0E5CB5', 'profile_sidebar_border_color': 'DFDFDF', 'profile_sidebar_fill_color': 'F3F3F3', 'profile_text_color': '333333', 'profile_use_background_image': True, 'has_extended_profile': False, 'default_profile': False, 'default_profile_image': False, 'following': False, 'follow_request_sent': False, 'notifications': False, 'translator_type': 'none', 'withheld_in_countries': []}, 'geo': None, 'coordinates': None, 'place': None, 'contributors': None, 'is_quote_status': False, 'retweet_count': 26, 'favorite_count': 35, 'favorited': False, 'retweeted': False, 'possibly_sensitive': False, 'lang': 'en'}], 'search_metadata': {'completed_in': 0.058, 'max_id': 0, 'max_id_str': '0', 'next_results': '?max_id=1592518341691936767&q=Tom%20and%20Jerry&lang=en&count=2&include_entities=1&result_type=popular', 'query': 'Tom+and+Jerry', 'count': 2, 'since_id': 0, 'since_id_str': '0'}}\n"
     ]
    }
   ],
   "source": [
    "result_dict = twitter.search(q='Tom and Jerry', lang = 'en', count=2, result_type='popular')\n",
    "print(result_dict)"
   ]
  },
  {
   "cell_type": "code",
   "execution_count": 11,
   "id": "3628824b",
   "metadata": {},
   "outputs": [
    {
     "name": "stdout",
     "output_type": "stream",
     "text": [
      "‘Tom And Jerry’ got a ridiculously adorable kawaii makeover from Cartoon Network Japan.\n",
      "\n",
      "https://t.co/Nm6ykTccEz\n",
      "#########################################################\n",
      "#OneMoment Tom and Jerry is playing to its target market and it looks like it's a hit! https://t.co/foz6SQfVpi\n",
      "#########################################################\n"
     ]
    }
   ],
   "source": [
    "list_tweets = result_dict['statuses']\n",
    "for tweet in list_tweets:\n",
    "    print(tweet['text'])\n",
    "    print('#########################################################')"
   ]
  }
 ],
 "metadata": {
  "kernelspec": {
   "display_name": "Python 3 (ipykernel)",
   "language": "python",
   "name": "python3"
  },
  "language_info": {
   "codemirror_mode": {
    "name": "ipython",
    "version": 3
   },
   "file_extension": ".py",
   "mimetype": "text/x-python",
   "name": "python",
   "nbconvert_exporter": "python",
   "pygments_lexer": "ipython3",
   "version": "3.9.13"
  }
 },
 "nbformat": 4,
 "nbformat_minor": 5
}
